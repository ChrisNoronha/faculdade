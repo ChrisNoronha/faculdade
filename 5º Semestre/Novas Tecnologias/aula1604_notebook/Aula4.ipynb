{
  "nbformat": 4,
  "nbformat_minor": 0,
  "metadata": {
    "colab": {
      "provenance": []
    },
    "kernelspec": {
      "name": "python3",
      "display_name": "Python 3"
    },
    "language_info": {
      "name": "python"
    }
  },
  "cells": [
    {
      "cell_type": "markdown",
      "source": [
        "exercicio 1\n"
      ],
      "metadata": {
        "id": "2UQXIhcm_Wpy"
      }
    },
    {
      "cell_type": "code",
      "source": [
        "import numpy as np\n",
        "\n",
        "# Criar a matriz 50x50 com números inteiros randômicos entre 1 e 100\n",
        "matriz = np.random.randint(1, 101, size=(50, 50))\n",
        "\n",
        "# Encontrar as 100 posições centrais (10x10 no centro da matriz)\n",
        "centro = matriz[20:30, 20:30]\n",
        "\n",
        "# Mostrar as 100 posições centrais\n",
        "print(\"As 100 posições centrais (10x10 no centro da matriz) são:\")\n",
        "print(centro)\n"
      ],
      "metadata": {
        "colab": {
          "base_uri": "https://localhost:8080/"
        },
        "id": "3LWGB1B5_aAx",
        "outputId": "926678d6-8903-47e5-a13b-585b68f4df04"
      },
      "execution_count": 33,
      "outputs": [
        {
          "output_type": "stream",
          "name": "stdout",
          "text": [
            "As 100 posições centrais (10x10 no centro da matriz) são:\n",
            "[[  9  41  47  11  18   7  56  56  20  79]\n",
            " [  8  26  39  56  31  45  34  52  31  74]\n",
            " [ 67  13  45  30  60  50  33   6  23  28]\n",
            " [ 85  88  85  99  73  81  61  42   6  29]\n",
            " [ 79   7  13  13  85  90   7  49  17  79]\n",
            " [ 25  84  42  94  11  29  66  26   5  49]\n",
            " [100  78  91  92  89   4  77  13  59  61]\n",
            " [ 31  27  21   5  43  47  40  40  30  64]\n",
            " [ 43  31  75   8  64   3  93  80  56  94]\n",
            " [ 24  82  10  19   7  62  49  75  60  69]]\n"
          ]
        }
      ]
    },
    {
      "cell_type": "markdown",
      "source": [
        "Exercicio 2\n"
      ],
      "metadata": {
        "id": "ZsPE5qUs_ump"
      }
    },
    {
      "cell_type": "code",
      "source": [
        "import numpy as np\n",
        "\n",
        "# Carregar a matriz 50x50 com números inteiros randômicos entre 0 e 100 criada anteriormente\n",
        "# Se você não tiver a matriz anteriormente criada, certifique-se de gerá-la primeiro\n",
        "matriz = np.random.randint(0, 101, size=(50, 50))\n",
        "\n",
        "# Mostrar os múltiplos de 7\n",
        "print(\"Múltiplos de 7 na matriz:\")\n",
        "multiplos_de_7 = matriz[matriz % 7 == 0]\n",
        "print(multiplos_de_7)\n",
        "\n",
        "# Contar a quantidade de números pares\n",
        "numeros_pares = matriz[matriz % 2 == 0]\n",
        "quantidade_pares = len(numeros_pares)\n",
        "print(\"Quantidade de números pares na matriz:\", quantidade_pares)\n"
      ],
      "metadata": {
        "colab": {
          "base_uri": "https://localhost:8080/"
        },
        "id": "oVdgvsZL_wqB",
        "outputId": "1d64add3-67f9-4f0b-ccd5-bb2766774c6e"
      },
      "execution_count": 6,
      "outputs": [
        {
          "output_type": "stream",
          "name": "stdout",
          "text": [
            "Múltiplos de 7 na matriz:\n",
            "[56 49 98 56 98 56 21 14 49 42 28 14 42 77 14 70 56 77 28 42 56 35 14  0\n",
            " 63 28 77 49 28 56 84 63 56 14 84  0 28  0 77 42 35 70 77 28  0 63  7 21\n",
            "  0 35  7 63 77  7 70  7 70 77 42 28 84 49  0  0 42  0 28 35 63 70 98 63\n",
            " 98 84 84 70 70 21 91 63 70 49 84 49 84 14 84 91 70 14 49 28 49 77 21 56\n",
            " 91 70 35 91 56 28 35  0 42 63 28 21 56 28 28 21 91 70  7 21 21 49 21 21\n",
            " 56 63 14 14 14 70 70 14 56 14 63 98 77 91  0 21 70 98 21  7  7 35 35  0\n",
            " 84 56 63 21 28 35  0 49 35  0 21 63 98 28 84 35  0 21 56  0 21 21  0  0\n",
            " 21 63 28 21 56  7 63 70  7 70 35 14 49 98  7 56 91 77 84 56 49 49 28  7\n",
            " 49 70 98  7 49 28 35 14 49 14  0 14 21 98 98 84  0 49 70 42 14  0 21  7\n",
            " 42 21 35 28 14 35 77 70 84 98 91  7 63 49 21 56 56 98 84 98 98 49 84 42\n",
            " 56  0 56 91 14 35 14 28  0 70 28 63 21 70 21 98 28 84 84 98  7 21 98 21\n",
            " 14 42 63 21 42 77 42 21 63 63 84 14  7  0 42  7 49 77 56 84 84 35 63 84\n",
            " 77 70 35 63  0 91 84 84 28 77 98 14 14  7 70 77 91 98 56 84  7  0 21  0\n",
            " 49 56 21 63 98 21 98 70  0  7 21 91 98 28 98 21 70 63  7 14 14  0  7 98\n",
            " 91  7  0 28 49  7 84 63 35 98  7  0 56 56 42 49 84 98 84 77 42 42  7  7\n",
            " 98  7 63 70 84 49 98 49 63 21 21  7 14 56 28 91 49 28 14 77 77]\n",
            "Quantidade de números pares na matriz: 1273\n"
          ]
        }
      ]
    },
    {
      "cell_type": "markdown",
      "source": [
        "exercicio 3\n"
      ],
      "metadata": {
        "id": "vZLeyn2w_9mp"
      }
    },
    {
      "cell_type": "code",
      "source": [
        "import numpy as np\n",
        "\n",
        "# Carregar a matriz 50x50 com números inteiros randômicos entre 0 e 100 criada anteriormente\n",
        "# Se você não tiver a matriz anteriormente criada, certifique-se de gerá-la primeiro\n",
        "matriz = np.random.randint(0, 101, size=(50, 50))\n",
        "\n",
        "# Criar uma nova matriz contendo as raízes quadradas dos elementos da matriz original\n",
        "matriz_raizes = np.sqrt(matriz)\n",
        "\n",
        "# Mostrar a nova matriz\n",
        "print(\"Nova matriz com raízes quadradas dos elementos da matriz original:\")\n",
        "print(matriz_raizes)\n",
        "\n",
        "# Realizar a divisão elemento a elemento da matriz original pela nova matriz\n",
        "resultado_divisao = matriz / matriz_raizes\n",
        "\n",
        "# Mostrar o resultado da divisão\n",
        "print(\"\\nResultado da divisão elemento a elemento da matriz original pela nova matriz:\")\n",
        "print(resultado_divisao)\n"
      ],
      "metadata": {
        "colab": {
          "base_uri": "https://localhost:8080/"
        },
        "id": "3_0-wnJf_-0g",
        "outputId": "4373b272-3752-4490-d6ef-973a9eaabc86"
      },
      "execution_count": 7,
      "outputs": [
        {
          "output_type": "stream",
          "name": "stdout",
          "text": [
            "Nova matriz com raízes quadradas dos elementos da matriz original:\n",
            "[[7.74596669 7.93725393 8.42614977 ... 8.66025404 6.55743852 7.81024968]\n",
            " [3.46410162 4.         9.64365076 ... 3.16227766 7.54983444 5.19615242]\n",
            " [0.         9.43398113 8.1240384  ... 5.74456265 4.         9.32737905]\n",
            " ...\n",
            " [8.77496439 3.74165739 9.05538514 ... 4.69041576 5.74456265 4.69041576]\n",
            " [2.64575131 8.1240384  8.88819442 ... 7.54983444 8.60232527 6.63324958]\n",
            " [7.         6.         4.12310563 ... 7.61577311 8.71779789 3.60555128]]\n",
            "\n",
            "Resultado da divisão elemento a elemento da matriz original pela nova matriz:\n",
            "[[7.74596669 7.93725393 8.42614977 ... 8.66025404 6.55743852 7.81024968]\n",
            " [3.46410162 4.         9.64365076 ... 3.16227766 7.54983444 5.19615242]\n",
            " [       nan 9.43398113 8.1240384  ... 5.74456265 4.         9.32737905]\n",
            " ...\n",
            " [8.77496439 3.74165739 9.05538514 ... 4.69041576 5.74456265 4.69041576]\n",
            " [2.64575131 8.1240384  8.88819442 ... 7.54983444 8.60232527 6.63324958]\n",
            " [7.         6.         4.12310563 ... 7.61577311 8.71779789 3.60555128]]\n"
          ]
        },
        {
          "output_type": "stream",
          "name": "stderr",
          "text": [
            "<ipython-input-7-86351f157afc>:15: RuntimeWarning: invalid value encountered in divide\n",
            "  resultado_divisao = matriz / matriz_raizes\n"
          ]
        }
      ]
    },
    {
      "cell_type": "markdown",
      "source": [
        "Broadcast\n"
      ],
      "metadata": {
        "id": "gUkyPyif92O7"
      }
    },
    {
      "cell_type": "code",
      "execution_count": 8,
      "metadata": {
        "colab": {
          "base_uri": "https://localhost:8080/"
        },
        "id": "f5Izimo19mi3",
        "outputId": "18ad6763-5f96-4985-f17c-16ad4c03866b"
      },
      "outputs": [
        {
          "output_type": "stream",
          "name": "stdout",
          "text": [
            "[[ 2  2  4]\n",
            " [ 5  5  7]\n",
            " [ 8  8 10]\n",
            " [11 11 13]]\n"
          ]
        }
      ],
      "source": [
        "#broadcasting\n",
        "x = np.array([[1,2,3], [4,5,6], [7,8,9], [10, 11, 12]])\n",
        "v = np.array([1, 0, 1])\n",
        "y = x + v  # adiciona v a cada linha de x\n",
        "print(y)"
      ]
    },
    {
      "cell_type": "markdown",
      "source": [
        "Exercicio 4"
      ],
      "metadata": {
        "id": "Ifi-oPekCoOy"
      }
    },
    {
      "cell_type": "code",
      "source": [
        "import numpy as np\n",
        "\n",
        "# Carregar a matriz 50x50 com números inteiros randômicos entre 0 e 100 criada anteriormente\n",
        "# Se você não tiver a matriz anteriormente criada, certifique-se de gerá-la primeiro\n",
        "matriz_original = np.random.randint(0, 101, size=(50, 50))\n",
        "\n",
        "# Criar uma cópia da matriz original\n",
        "nova_matriz = np.copy(matriz_original)\n",
        "\n",
        "# Identificar as colunas ímpares e tornar seus valores negativos, mantendo o mesmo módulo\n",
        "for coluna in range(nova_matriz.shape[1]):\n",
        "    if coluna % 2 != 0:  # Verificar se a coluna é ímpar\n",
        "        nova_matriz[:, coluna] *= -1\n",
        "\n",
        "# Mostrar a nova matriz com as colunas ímpares negativas, mas com o mesmo módulo dos valores da matriz original\n",
        "print(\"Nova matriz com as colunas ímpares negativas (mesmo módulo):\")\n",
        "print(nova_matriz)\n"
      ],
      "metadata": {
        "colab": {
          "base_uri": "https://localhost:8080/"
        },
        "id": "q9HFZBId9szt",
        "outputId": "df4eb73a-86ea-4b0e-a5da-57c1ae260896"
      },
      "execution_count": 9,
      "outputs": [
        {
          "output_type": "stream",
          "name": "stdout",
          "text": [
            "Nova matriz com as colunas ímpares negativas (mesmo módulo):\n",
            "[[ 83 -67  24 ... -64  52 -43]\n",
            " [ 16 -47  28 ...   0  46 -29]\n",
            " [ 76 -18  90 ... -90  10 -78]\n",
            " ...\n",
            " [ 76 -37  26 ... -68  39 -87]\n",
            " [ 84 -27   1 ... -17  64 -64]\n",
            " [ 81 -52  37 ... -91  89 -90]]\n"
          ]
        }
      ]
    },
    {
      "cell_type": "markdown",
      "source": [
        "Exercício 5"
      ],
      "metadata": {
        "id": "S4N5TomRC2Ii"
      }
    },
    {
      "cell_type": "code",
      "source": [
        "matriz_10linhas=nova_matriz.reshape(10,-1)\n",
        "print(matriz_10linhas)"
      ],
      "metadata": {
        "colab": {
          "base_uri": "https://localhost:8080/"
        },
        "id": "AdjkwvfbC3uK",
        "outputId": "d194d468-2c7c-47b7-ed08-13ccf510560d"
      },
      "execution_count": 18,
      "outputs": [
        {
          "output_type": "stream",
          "name": "stdout",
          "text": [
            "[[ 83 -67  24 ... -28  56 -89]\n",
            " [ 53 -62  79 ... -23   6 -86]\n",
            " [  1  -9  45 ... -37  61 -88]\n",
            " ...\n",
            " [ 16 -31  73 ... -12  75 -15]\n",
            " [ 37 -85  41 ...  -9  71 -42]\n",
            " [  8 -33  24 ... -91  89 -90]]\n"
          ]
        }
      ]
    },
    {
      "cell_type": "markdown",
      "source": [
        "exercicio 6\n"
      ],
      "metadata": {
        "id": "_Y683C2cHDLz"
      }
    },
    {
      "cell_type": "code",
      "source": [
        "x = matriz_original\n",
        "print(\"x:\",x)\n",
        "soma_colunas = np.sum(x, axis=0)\n",
        "indice_maior_coluna = np.argmax(soma_colunas)\n",
        "soma_maior_coluna = soma_colunas[indice_maior_coluna]\n",
        "print(\"Soma da maior coluna:\", soma_maior_coluna)\n",
        "valores_maiores50= x[x>=50]\n",
        "print(\"valores maiores que 50\", valores_maiores50)\n",
        "print(\"maior valor da matriz toda:\",x.max())\n",
        "print(\"maior valor linha a linha da MATRIZ toda:\",x.argmax(1))\n",
        "# Encontrar o índice do maior valor na matriz\n",
        "indice_maior_valor = np.argmax(matriz)\n",
        "\n",
        "# Converter o índice em coordenadas de linha e coluna\n",
        "linha, coluna = np.unravel_index(indice_maior_valor, matriz.shape)\n",
        "\n",
        "print(\"Linha do maior valor:\", linha)\n",
        "print(\"Coluna do maior valor:\", coluna)"
      ],
      "metadata": {
        "colab": {
          "base_uri": "https://localhost:8080/"
        },
        "id": "STJ5seTpHEoi",
        "outputId": "66458ea4-54a8-45ba-fb77-2d2097fbd7e5"
      },
      "execution_count": 29,
      "outputs": [
        {
          "output_type": "stream",
          "name": "stdout",
          "text": [
            "x: [[83 67 24 ... 64 52 43]\n",
            " [16 47 28 ...  0 46 29]\n",
            " [76 18 90 ... 90 10 78]\n",
            " ...\n",
            " [76 37 26 ... 68 39 87]\n",
            " [84 27  1 ... 17 64 64]\n",
            " [81 52 37 ... 91 89 90]]\n",
            "Soma da maior coluna: 2862\n",
            "valores maiores que 50 [83 67 80 ... 91 89 90]\n",
            "maior valor da matriz toda: 100\n",
            "maior valor linha a linha da MATRIZ toda: [24 41 31  1  7  8  6  7  1 41 21 21 20 13 18 46 25 14 33  4 25 30  5 20\n",
            " 31 14 17  2 47  0 13 33 37 31 33 45 46 26 16 19 18  9 36 30 30  6 38 21\n",
            " 15 40]\n",
            "Linha do maior valor: 0\n",
            "Coluna do maior valor: 4\n"
          ]
        }
      ]
    },
    {
      "cell_type": "markdown",
      "source": [
        "Concatenar linhas e colunas\n"
      ],
      "metadata": {
        "id": "Pv5DC6SSN3L5"
      }
    },
    {
      "cell_type": "code",
      "source": [
        "a1 = np.array([[1,2,3],\n",
        "               [4,5,6]])\n",
        "\n",
        "a2 = np.array([[7,8,9],\n",
        "               [10,11,12]])\n",
        "\n",
        "o = np.hstack((a1, a2))\n",
        "\n",
        "print(o)"
      ],
      "metadata": {
        "colab": {
          "base_uri": "https://localhost:8080/"
        },
        "id": "Oy0J8JUENoNC",
        "outputId": "e3644bca-4be7-4210-850f-da1eb7e36f7b"
      },
      "execution_count": 30,
      "outputs": [
        {
          "output_type": "stream",
          "name": "stdout",
          "text": [
            "[[ 1  2  3  7  8  9]\n",
            " [ 4  5  6 10 11 12]]\n"
          ]
        }
      ]
    },
    {
      "cell_type": "code",
      "source": [
        "a1 = np.array([[1,2],\n",
        "               [3,4],\n",
        "               [5,6]])\n",
        "\n",
        "a2 = np.array([[7,8],\n",
        "               [9,10],\n",
        "               [10,11]])\n",
        "\n",
        "o = np.vstack((a1, a2))\n",
        "\n",
        "print(o)"
      ],
      "metadata": {
        "id": "WAFUgnEjNrgR"
      },
      "execution_count": null,
      "outputs": []
    },
    {
      "cell_type": "markdown",
      "source": [
        "Exercicio 7"
      ],
      "metadata": {
        "id": "FjBK3tw_Pjrx"
      }
    },
    {
      "cell_type": "code",
      "source": [
        "import numpy as np\n",
        "\n",
        "\n",
        "\n",
        "# Calcular a média da matriz original\n",
        "media = np.mean(matriz_original)\n",
        "print(media)\n",
        "# Criar uma cópia da matriz original\n",
        "nova_matriz = np.copy(matriz_original)\n",
        "\n",
        "# Atribuir zero a todos os valores maiores que a média\n",
        "nova_matriz[nova_matriz > media] = 0\n",
        "\n",
        "# Mostrar a nova matriz\n",
        "print(\"Nova matriz onde os valores maiores que a média são iguais a zero:\")\n",
        "print(nova_matriz)\n"
      ],
      "metadata": {
        "colab": {
          "base_uri": "https://localhost:8080/"
        },
        "id": "GqxVe6dnPh0K",
        "outputId": "fd0d5022-9d2b-4251-8e0c-40f9d694375a"
      },
      "execution_count": 34,
      "outputs": [
        {
          "output_type": "stream",
          "name": "stdout",
          "text": [
            "49.706\n",
            "Nova matriz onde os valores maiores que a média são iguais a zero:\n",
            "[[ 0  0 24 ...  0  0 43]\n",
            " [16 47 28 ...  0 46 29]\n",
            " [ 0 18  0 ...  0 10  0]\n",
            " ...\n",
            " [ 0 37 26 ...  0 39  0]\n",
            " [ 0 27  1 ... 17  0  0]\n",
            " [ 0  0 37 ...  0  0  0]]\n"
          ]
        }
      ]
    }
  ]
}