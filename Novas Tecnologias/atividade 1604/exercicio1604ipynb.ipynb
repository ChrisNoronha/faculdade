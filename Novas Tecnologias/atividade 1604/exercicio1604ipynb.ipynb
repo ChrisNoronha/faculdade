{
  "nbformat": 4,
  "nbformat_minor": 0,
  "metadata": {
    "colab": {
      "provenance": []
    },
    "kernelspec": {
      "name": "python3",
      "display_name": "Python 3"
    },
    "language_info": {
      "name": "python"
    }
  },
  "cells": [
    {
      "cell_type": "code",
      "execution_count": 4,
      "metadata": {
        "id": "HiMUY7YZ3TSF"
      },
      "outputs": [],
      "source": [
        "import numpy as np\n",
        "\n",
        "# Função para verificar se um número é primo\n",
        "def is_prime(num):\n",
        "    if num < 2:\n",
        "        return False\n",
        "    for i in range(2, int(num**0.5) + 1):\n",
        "        if num % i == 0:\n",
        "            return False\n",
        "    return True\n",
        "\n",
        "# Leitura do arquivo e criação da matriz\n",
        "with open('teste1.txt', 'r') as file:\n",
        "    n = int(file.readline().strip())\n",
        "    matrix_data = []\n",
        "    for _ in range(n):\n",
        "        line = list(map(int, file.readline().strip().split()))\n",
        "        matrix_data.append(line)\n",
        "\n",
        "# Criação da matriz numpy\n",
        "matrix = np.array(matrix_data)\n",
        "\n",
        "# Contagem das ocorrências dos primos 2, 3, 5, 7 e 11 na matriz\n",
        "primes = [2, 3, 5, 7, 11]\n",
        "prime_counts = {prime: np.count_nonzero(matrix % prime == 0) for prime in primes}\n",
        "\n",
        "# Salvar os valores no arquivo de saída\n",
        "with open('saida1.txt', 'w') as output_file:\n",
        "    for prime, count in prime_counts.items():\n",
        "        output_file.write(f'{prime}: {count}\\n')\n"
      ]
    },
    {
      "cell_type": "code",
      "source": [],
      "metadata": {
        "id": "arSiigoz3aFo"
      },
      "execution_count": null,
      "outputs": []
    }
  ]
}